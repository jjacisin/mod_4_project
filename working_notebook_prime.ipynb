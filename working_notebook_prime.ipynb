{
  "nbformat": 4,
  "nbformat_minor": 0,
  "metadata": {
    "colab": {
      "name": "working_notebook_jim.ipynb",
      "version": "0.3.2",
      "provenance": [],
      "include_colab_link": true
    },
    "kernelspec": {
      "name": "python3",
      "display_name": "Python 3"
    },
    "accelerator": "GPU"
  },
  "cells": [
    {
      "cell_type": "markdown",
      "metadata": {
        "id": "view-in-github",
        "colab_type": "text"
      },
      "source": [
        "<a href=\"https://colab.research.google.com/github/theJimJack/mod_4_project/blob/master/working_notebook_prime.ipynb\" target=\"_parent\"><img src=\"https://colab.research.google.com/assets/colab-badge.svg\" alt=\"Open In Colab\"/></a>"
      ]
    },
    {
      "metadata": {
        "id": "XJOXlOF9W4cg",
        "colab_type": "code",
        "colab": {}
      },
      "cell_type": "code",
      "source": [
        "### LOAD DATA FROM GOOGLE DRIVE\n",
        "\n",
        "# Install the PyDrive wrapper & import libraries.\n",
        "!pip install -U -q PyDrive\n",
        "from pydrive.auth import GoogleAuth\n",
        "from pydrive.drive import GoogleDrive\n",
        "from google.colab import auth\n",
        "from oauth2client.client import GoogleCredentials\n",
        "\n",
        "# Authenticate and create the PyDrive client.\n",
        "auth.authenticate_user()\n",
        "gauth = GoogleAuth()\n",
        "gauth.credentials = GoogleCredentials.get_application_default()\n",
        "drive = GoogleDrive(gauth)"
      ],
      "execution_count": 0,
      "outputs": []
    },
    {
      "metadata": {
        "id": "tJdwIBSRahut",
        "colab_type": "code",
        "outputId": "e0a16572-a7d9-46ac-a0e5-d5334b1e2f85",
        "colab": {
          "base_uri": "https://localhost:8080/",
          "height": 51
        }
      },
      "cell_type": "code",
      "source": [
        "!unzip pictures2.zip"
      ],
      "execution_count": 2,
      "outputs": [
        {
          "output_type": "stream",
          "text": [
            "Archive:  pictures2.zip\n",
            "replace pictures/0205762611.jpg? [y]es, [n]o, [A]ll, [N]one, [r]ename: N\n"
          ],
          "name": "stdout"
        }
      ]
    },
    {
      "metadata": {
        "id": "QYUI82CPYm-u",
        "colab_type": "code",
        "outputId": "ca8c1ebe-2444-475e-f2bf-5cd9f25401e4",
        "colab": {
          "base_uri": "https://localhost:8080/",
          "height": 34
        }
      },
      "cell_type": "code",
      "source": [
        "\n",
        "folder_id='17ZHfezur8CY9XK4lfZ2b3o6jzfn3JsCo'\n",
        "file_list = drive.ListFile({'q': \"'%s' in parents and trashed=false\" % folder_id}).GetList()\n",
        "print(file_list)\n",
        "\n",
        "\n",
        "downloaded = drive.CreateFile({'id': folder_id})\n",
        "downloaded.GetContentFile(downloaded['title'])"
      ],
      "execution_count": 3,
      "outputs": [
        {
          "output_type": "stream",
          "text": [
            "[]\n"
          ],
          "name": "stdout"
        }
      ]
    },
    {
      "metadata": {
        "id": "5fDfT88s_qhb",
        "colab_type": "code",
        "colab": {}
      },
      "cell_type": "code",
      "source": [
        "import pandas as pd\n",
        "import numpy as np\n",
        "import cleaner"
      ],
      "execution_count": 0,
      "outputs": []
    },
    {
      "metadata": {
        "id": "0qSyo6wp_qhe",
        "colab_type": "code",
        "colab": {
          "base_uri": "https://localhost:8080/",
          "height": 306
        },
        "outputId": "aa777b56-539e-48e5-f455-af3e7a015be7"
      },
      "cell_type": "code",
      "source": [
        "## Create dataframe\n",
        "df = pd.read_csv('data.csv',encoding=\"latin\")\n",
        "# df.columns = ['img_idx','img_file','img_link','title','author','cat_id','category']\n",
        "# other = [3,8,10,11,14,15,18, 20,25,27, 28,29, 30,31]\n",
        "# df = df.loc[~df['cat_id'].isin(other)]\n",
        "df = df.drop(\"Unnamed: 0\",axis=1)\n",
        "print(df.shape)\n",
        "df.head()"
      ],
      "execution_count": 5,
      "outputs": [
        {
          "output_type": "stream",
          "text": [
            "(36000, 8)\n"
          ],
          "name": "stdout"
        },
        {
          "output_type": "execute_result",
          "data": {
            "text/html": [
              "<div>\n",
              "<style scoped>\n",
              "    .dataframe tbody tr th:only-of-type {\n",
              "        vertical-align: middle;\n",
              "    }\n",
              "\n",
              "    .dataframe tbody tr th {\n",
              "        vertical-align: top;\n",
              "    }\n",
              "\n",
              "    .dataframe thead th {\n",
              "        text-align: right;\n",
              "    }\n",
              "</style>\n",
              "<table border=\"1\" class=\"dataframe\">\n",
              "  <thead>\n",
              "    <tr style=\"text-align: right;\">\n",
              "      <th></th>\n",
              "      <th>index</th>\n",
              "      <th>img_idx</th>\n",
              "      <th>img_file</th>\n",
              "      <th>img_link</th>\n",
              "      <th>title</th>\n",
              "      <th>author</th>\n",
              "      <th>cat_id</th>\n",
              "      <th>category</th>\n",
              "    </tr>\n",
              "  </thead>\n",
              "  <tbody>\n",
              "    <tr>\n",
              "      <th>0</th>\n",
              "      <td>56649</td>\n",
              "      <td>865717842</td>\n",
              "      <td>0865717842.jpg</td>\n",
              "      <td>http://ecx.images-amazon.com/images/I/51DqEOpN...</td>\n",
              "      <td>Real Goods Solar Living Sourcebook: Your Compl...</td>\n",
              "      <td>John Schaeffer</td>\n",
              "      <td>0</td>\n",
              "      <td>Arts &amp; Photography</td>\n",
              "    </tr>\n",
              "    <tr>\n",
              "      <th>1</th>\n",
              "      <td>56533</td>\n",
              "      <td>415689317</td>\n",
              "      <td>0415689317.jpg</td>\n",
              "      <td>http://ecx.images-amazon.com/images/I/414gx4Qv...</td>\n",
              "      <td>Translucent Building Skins: Material Innovatio...</td>\n",
              "      <td>Scott Murray</td>\n",
              "      <td>0</td>\n",
              "      <td>Arts &amp; Photography</td>\n",
              "    </tr>\n",
              "    <tr>\n",
              "      <th>2</th>\n",
              "      <td>56250</td>\n",
              "      <td>1565548310</td>\n",
              "      <td>1565548310.jpg</td>\n",
              "      <td>http://ecx.images-amazon.com/images/I/4173MVBP...</td>\n",
              "      <td>New Orleans Architecture: Faubourg TremÃÂ© an...</td>\n",
              "      <td>Roulhac Toledano</td>\n",
              "      <td>0</td>\n",
              "      <td>Arts &amp; Photography</td>\n",
              "    </tr>\n",
              "    <tr>\n",
              "      <th>3</th>\n",
              "      <td>61325</td>\n",
              "      <td>3867878811</td>\n",
              "      <td>3867878811.jpg</td>\n",
              "      <td>http://ecx.images-amazon.com/images/I/51-JWrCa...</td>\n",
              "      <td>Sixty Nine: Joyful Gay Sex - Featuring Cockyboys</td>\n",
              "      <td>NaN</td>\n",
              "      <td>0</td>\n",
              "      <td>Arts &amp; Photography</td>\n",
              "    </tr>\n",
              "    <tr>\n",
              "      <th>4</th>\n",
              "      <td>61280</td>\n",
              "      <td>133856887</td>\n",
              "      <td>0133856887.jpg</td>\n",
              "      <td>http://ecx.images-amazon.com/images/I/51tyyOiL...</td>\n",
              "      <td>The Digital Photography Book, Part 5: Photo Re...</td>\n",
              "      <td>Scott Kelby</td>\n",
              "      <td>0</td>\n",
              "      <td>Arts &amp; Photography</td>\n",
              "    </tr>\n",
              "  </tbody>\n",
              "</table>\n",
              "</div>"
            ],
            "text/plain": [
              "   index     img_idx        img_file  \\\n",
              "0  56649   865717842  0865717842.jpg   \n",
              "1  56533   415689317  0415689317.jpg   \n",
              "2  56250  1565548310  1565548310.jpg   \n",
              "3  61325  3867878811  3867878811.jpg   \n",
              "4  61280   133856887  0133856887.jpg   \n",
              "\n",
              "                                            img_link  \\\n",
              "0  http://ecx.images-amazon.com/images/I/51DqEOpN...   \n",
              "1  http://ecx.images-amazon.com/images/I/414gx4Qv...   \n",
              "2  http://ecx.images-amazon.com/images/I/4173MVBP...   \n",
              "3  http://ecx.images-amazon.com/images/I/51-JWrCa...   \n",
              "4  http://ecx.images-amazon.com/images/I/51tyyOiL...   \n",
              "\n",
              "                                               title            author  \\\n",
              "0  Real Goods Solar Living Sourcebook: Your Compl...    John Schaeffer   \n",
              "1  Translucent Building Skins: Material Innovatio...      Scott Murray   \n",
              "2  New Orleans Architecture: Faubourg TremÃÂ© an...  Roulhac Toledano   \n",
              "3   Sixty Nine: Joyful Gay Sex - Featuring Cockyboys               NaN   \n",
              "4  The Digital Photography Book, Part 5: Photo Re...       Scott Kelby   \n",
              "\n",
              "   cat_id            category  \n",
              "0       0  Arts & Photography  \n",
              "1       0  Arts & Photography  \n",
              "2       0  Arts & Photography  \n",
              "3       0  Arts & Photography  \n",
              "4       0  Arts & Photography  "
            ]
          },
          "metadata": {
            "tags": []
          },
          "execution_count": 5
        }
      ]
    },
    {
      "metadata": {
        "id": "AiBnVj-y_qhi",
        "colab_type": "code",
        "colab": {
          "base_uri": "https://localhost:8080/",
          "height": 153
        },
        "outputId": "aafa2c56-98af-4f0c-fc4e-f02c526fc7dc"
      },
      "cell_type": "code",
      "source": [
        "#What are our categories?\n",
        "df.category.unique()"
      ],
      "execution_count": 6,
      "outputs": [
        {
          "output_type": "execute_result",
          "data": {
            "text/plain": [
              "array(['Arts & Photography', 'Biographies & Memoirs', 'Business & Money',\n",
              "       \"Children's Books\", 'Christian Books & Bibles',\n",
              "       'Comics & Graphic Novels', 'Computers & Technology',\n",
              "       'Cookbooks, Food & Wine', 'History', 'Humor & Entertainment',\n",
              "       'Medical Books', 'Mystery, Thriller & Suspense',\n",
              "       'Politics & Social Sciences', 'Religion & Spirituality', 'Romance',\n",
              "       'Science & Math', 'Science Fiction & Fantasy', 'Sports & Outdoors'],\n",
              "      dtype=object)"
            ]
          },
          "metadata": {
            "tags": []
          },
          "execution_count": 6
        }
      ]
    },
    {
      "metadata": {
        "id": "D2Lsy2-7_qhm",
        "colab_type": "code",
        "colab": {}
      },
      "cell_type": "code",
      "source": [
        "#given a class sample size, downsample classes that are smaller and then upsample classes that are bigger.\n",
        " sample_size = 1000\n",
        "\n",
        "from sklearn.utils import resample\n",
        "\n",
        "resampled_df_list = []\n",
        "for category, group in df.groupby('category'):\n",
        "  replace = len(group) < sample_size\n",
        "  df_group_resampled = resample(group, replace=replace, n_samples=sample_size, random_state=123)\n",
        "  resampled_df_list.append(df_group_resampled)\n",
        "    \n",
        "df_resampled = pd.concat(resampled_df_list)\n",
        "\n",
        "#refer to resampled dataset from now on\n",
        "df=df_resampled"
      ],
      "execution_count": 0,
      "outputs": []
    },
    {
      "metadata": {
        "id": "n3_mH3Xb_qhp",
        "colab_type": "code",
        "colab": {
          "base_uri": "https://localhost:8080/",
          "height": 68
        },
        "outputId": "d5edeb46-1e2a-4be7-985d-f8125168253b"
      },
      "cell_type": "code",
      "source": [
        "#verifying things were properly resampled\n",
        "print('There are ', len(df_resampled.groupby('img_file').groups), ' unique image files in our resampled data')\n",
        "\n",
        "#number of categories\n",
        "print('There are ', len(df_resampled.groupby('category').groups), ' categories')\n",
        "\n",
        "correct_size = True\n",
        "for category, group in df_resampled.groupby('category'):\n",
        "    if len(group) != sample_size:\n",
        "        correct_size = False\n",
        "    \n",
        "print('Categories have the correct sample size: ', correct_size)"
      ],
      "execution_count": 8,
      "outputs": [
        {
          "output_type": "stream",
          "text": [
            "There are  17785  unique image files in our resampled data\n",
            "There are  18  categories\n",
            "Categories have the correct sample size:  True\n"
          ],
          "name": "stdout"
        }
      ]
    },
    {
      "metadata": {
        "id": "o86DZh-4_qhs",
        "colab_type": "code",
        "colab": {}
      },
      "cell_type": "code",
      "source": [
        "#test train split the dataframe\n",
        "from sklearn.model_selection import train_test_split\n",
        "#Notice that we don't drop target from x_train, since we have to feed a dataframe with target\n",
        "# to train_generator\n",
        "\n",
        "target = df['category']\n",
        "x_train, x_test, y_train, y_test = train_test_split(df, target, test_size=0.2)\n",
        "\n",
        "\n",
        "#have to reset index of x_test so that can use image_data_generator on it ??\n",
        "x_train = x_train.reset_index()\n",
        "y_train = y_train.reset_index()\n",
        "x_test = x_test.reset_index()\n",
        "y_test = y_test.reset_index()"
      ],
      "execution_count": 0,
      "outputs": []
    },
    {
      "metadata": {
        "id": "ltrYBVKB_qhu",
        "colab_type": "code",
        "colab": {
          "base_uri": "https://localhost:8080/",
          "height": 190
        },
        "outputId": "7ee84289-3aed-44eb-d176-ab916e4550bc"
      },
      "cell_type": "code",
      "source": [
        "from keras.preprocessing.image import ImageDataGenerator\n",
        "from PIL import ImageFile\n",
        "ImageFile.LOAD_TRUNCATED_IMAGES = True\n",
        "\n",
        "directory = 'pictures/'\n",
        "batch_size = 256\n",
        "train_generator = ImageDataGenerator(rescale=1./255).flow_from_dataframe(x_train, directory, x_col='img_file', y_col='category', has_ext=True, target_size=(299, 299), color_mode='rgb', classes=None, class_mode='categorical', batch_size=batch_size, shuffle=True, seed=None, save_to_dir=None, save_prefix='', save_format='jpeg', subset=None, interpolation='nearest')\n",
        "#train_images, train_labels = next(train_generator)\n",
        "\n",
        "test_generator = ImageDataGenerator(rescale=1./255).flow_from_dataframe(x_test, directory, x_col='img_file', y_col='category', has_ext=True, target_size=(299, 299), color_mode='rgb', classes=None, class_mode='categorical', batch_size=batch_size, shuffle=True, seed=None, save_to_dir=None, save_prefix='', save_format='jpeg', subset=None, interpolation='nearest')\n"
      ],
      "execution_count": 10,
      "outputs": [
        {
          "output_type": "stream",
          "text": [
            "Using TensorFlow backend.\n",
            "/usr/local/lib/python3.6/dist-packages/keras_preprocessing/image.py:2059: SettingWithCopyWarning: \n",
            "A value is trying to be set on a copy of a slice from a DataFrame.\n",
            "Try using .loc[row_indexer,col_indexer] = value instead\n",
            "\n",
            "See the caveats in the documentation: http://pandas.pydata.org/pandas-docs/stable/indexing.html#indexing-view-versus-copy\n",
            "  self.df[x_col] = self.df[x_col].astype(str)\n"
          ],
          "name": "stderr"
        },
        {
          "output_type": "stream",
          "text": [
            "Found 13345 images belonging to 18 classes.\n",
            "Found 3350 images belonging to 18 classes.\n"
          ],
          "name": "stdout"
        }
      ]
    },
    {
      "metadata": {
        "id": "_8UUwSZ1_qhx",
        "colab_type": "code",
        "colab": {}
      },
      "cell_type": "code",
      "source": [
        "num_classes = len(df.category.unique())"
      ],
      "execution_count": 0,
      "outputs": []
    },
    {
      "metadata": {
        "id": "48oLoVVF_qh0",
        "colab_type": "code",
        "colab": {}
      },
      "cell_type": "code",
      "source": [
        "from keras.layers import Dense,GlobalAveragePooling2D\n",
        "from keras.applications import MobileNet\n",
        "from keras.preprocessing import image\n",
        "from keras.applications.mobilenet import preprocess_input\n",
        "from keras.preprocessing.image import ImageDataGenerator\n",
        "from keras.models import Model\n",
        "from keras.optimizers import Adam"
      ],
      "execution_count": 0,
      "outputs": []
    },
    {
      "metadata": {
        "id": "8E3nUVOw_qh2",
        "colab_type": "code",
        "colab": {}
      },
      "cell_type": "code",
      "source": [
        "from keras.applications import inception_v3\n",
        "\n",
        "#initialise inception base model\n",
        "base_model=inception_v3.InceptionV3(weights='imagenet',include_top=False)\n",
        "\n",
        "x = base_model.output\n",
        "\n",
        "#add our architecture\n",
        "\n",
        "# add pooling layer\n",
        "x = GlobalAveragePooling2D()(x)\n",
        "# add fully-connected layer with 1024 neurons \n",
        "x = Dense(1024, activation='relu')(x)\n",
        "# and a logistic layer\n",
        "predictions = Dense(num_classes, activation='softmax')(x)\n",
        "\n",
        "# this is the model we will train\n",
        "model = Model(inputs=base_model.input, outputs=predictions)\n"
      ],
      "execution_count": 0,
      "outputs": []
    },
    {
      "metadata": {
        "id": "1Mp6shUN_qh5",
        "colab_type": "code",
        "colab": {}
      },
      "cell_type": "code",
      "source": [
        "# turn off transfer layer training\n",
        "num_transfer_layers = len(base_model.layers)\n",
        "\n",
        "for layer in model.layers[:num_transfer_layers]:\n",
        "    layer.trainable = False"
      ],
      "execution_count": 0,
      "outputs": []
    },
    {
      "metadata": {
        "id": "vUAIeTrw_qh7",
        "colab_type": "code",
        "colab": {
          "base_uri": "https://localhost:8080/",
          "height": 207
        },
        "outputId": "eb09e273-d1f9-4dd7-c8aa-5efe623e6f03"
      },
      "cell_type": "code",
      "source": [
        "#number of epochs corresponds to one iteration through the entire dataset\n",
        "EPOCHS = 5\n",
        "\n",
        "#just picked a random optimizer and loss function\n",
        "model.compile(optimizer='Adam',loss='categorical_crossentropy',metrics=['accuracy'])\n",
        "\n",
        "history = model.fit_generator(train_generator, validation_data=test_generator, \n",
        "                    steps_per_epoch=len(x_train)//batch_size, \n",
        "                    validation_steps=len(x_test)//batch_size, use_multiprocessing=True,\n",
        "                    max_queue_size=12, epochs=EPOCHS)\n"
      ],
      "execution_count": 15,
      "outputs": [
        {
          "output_type": "stream",
          "text": [
            "Epoch 1/5\n",
            "56/56 [==============================] - 180s 3s/step - loss: 2.6446 - acc: 0.1961 - val_loss: 3.4757 - val_acc: 0.0451\n",
            "Epoch 2/5\n",
            "56/56 [==============================] - 155s 3s/step - loss: 2.2730 - acc: 0.3018 - val_loss: 4.0766 - val_acc: 0.0445\n",
            "Epoch 3/5\n",
            "56/56 [==============================] - 158s 3s/step - loss: 2.1710 - acc: 0.3366 - val_loss: 3.8667 - val_acc: 0.0719\n",
            "Epoch 4/5\n",
            "56/56 [==============================] - 160s 3s/step - loss: 2.0993 - acc: 0.3547 - val_loss: 4.2320 - val_acc: 0.0424\n",
            "Epoch 5/5\n",
            "56/56 [==============================] - 156s 3s/step - loss: 2.0151 - acc: 0.3777 - val_loss: 4.4687 - val_acc: 0.0543\n"
          ],
          "name": "stdout"
        }
      ]
    },
    {
      "metadata": {
        "id": "2TVKdbPA_qh-",
        "colab_type": "code",
        "colab": {}
      },
      "cell_type": "code",
      "source": [
        "#TODO: get live training vs validation loss graph so we can visualise overfitting... and speed this up somehow! \n",
        "#TODO: tune hyperparameters to optimise for ... f1 score? probably.\n",
        "#TODO: figure out how to actually use the model for prediction"
      ],
      "execution_count": 0,
      "outputs": []
    },
    {
      "metadata": {
        "id": "YgsWg3_1gPqt",
        "colab_type": "code",
        "colab": {}
      },
      "cell_type": "code",
      "source": [
        "import matplotlib.pyplot as plt"
      ],
      "execution_count": 0,
      "outputs": []
    },
    {
      "metadata": {
        "id": "9fbdZylT_qiA",
        "colab_type": "code",
        "colab": {
          "base_uri": "https://localhost:8080/",
          "height": 752
        },
        "outputId": "a0ff3164-f889-4dc9-ab0d-69e22d604f70"
      },
      "cell_type": "code",
      "source": [
        "print(history.history.keys())\n",
        "# summarize history for accuracy\n",
        "plt.plot(history.history['acc'])\n",
        "plt.plot(history.history['val_acc'])\n",
        "plt.title('model accuracy')\n",
        "plt.ylabel('accuracy')\n",
        "plt.xlabel('epoch')\n",
        "plt.legend(['train', 'test'], loc='upper left')\n",
        "plt.show()\n",
        "# summarize history for loss\n",
        "plt.plot(history.history['loss'])\n",
        "plt.plot(history.history['val_loss'])\n",
        "plt.title('model loss')\n",
        "plt.ylabel('loss')\n",
        "plt.xlabel('epoch')\n",
        "plt.legend(['train', 'test'], loc='upper left')\n",
        "plt.show()"
      ],
      "execution_count": 19,
      "outputs": [
        {
          "output_type": "stream",
          "text": [
            "dict_keys(['val_loss', 'val_acc', 'loss', 'acc'])\n"
          ],
          "name": "stdout"
        },
        {
          "output_type": "display_data",
          "data": {
            "image/png": "[encoded data removed]",
            "text/plain": [
              "<Figure size 576x396 with 1 Axes>"
            ]
          },
          "metadata": {
            "tags": []
          }
        },
        {
          "output_type": "display_data",
          "data": {
            "image/png": "[encoded data removed]",
            "text/plain": [
              "<Figure size 576x396 with 1 Axes>"
            ]
          },
          "metadata": {
            "tags": []
          }
        }
      ]
    },
    {
      "metadata": {
        "id": "ahykeW9fgOpr",
        "colab_type": "code",
        "colab": {}
      },
      "cell_type": "code",
      "source": [
        ""
      ],
      "execution_count": 0,
      "outputs": []
    },
    {
      "metadata": {
        "id": "ueO4QT4s_qiC",
        "colab_type": "code",
        "colab": {}
      },
      "cell_type": "code",
      "source": [
        ""
      ],
      "execution_count": 0,
      "outputs": []
    },
    {
      "metadata": {
        "id": "3kk8tD9cM7Hu",
        "colab_type": "code",
        "colab": {}
      },
      "cell_type": "code",
      "source": [
        ""
      ],
      "execution_count": 0,
      "outputs": []
    }
  ]
}